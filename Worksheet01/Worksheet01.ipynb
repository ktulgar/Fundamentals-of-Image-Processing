{
  "nbformat": 4,
  "nbformat_minor": 0,
  "metadata": {
    "colab": {
      "provenance": [],
      "collapsed_sections": []
    },
    "kernelspec": {
      "name": "python3",
      "display_name": "Python 3"
    },
    "language_info": {
      "name": "python"
    }
  },
  "cells": [
    {
      "cell_type": "markdown",
      "source": [
        "# **Importing required libraries**"
      ],
      "metadata": {
        "id": "YJnTpawyKFGN"
      }
    },
    {
      "cell_type": "code",
      "execution_count": 42,
      "metadata": {
        "id": "OhfSna3rH0Xt"
      },
      "outputs": [],
      "source": [
        "import numpy\n",
        "import cv2\n",
        "from google.colab.patches import cv2_imshow # cv2.imshow doesnt work , thats why I imported this\n",
        "import sys"
      ]
    },
    {
      "cell_type": "markdown",
      "source": [
        "# **Uncomment this line to see entire array**"
      ],
      "metadata": {
        "id": "g4HsvKejauti"
      }
    },
    {
      "cell_type": "code",
      "source": [
        "# numpy.set_printoptions(threshold=sys.maxsize) "
      ],
      "metadata": {
        "id": "B5hNRLSAax5_"
      },
      "execution_count": 43,
      "outputs": []
    },
    {
      "cell_type": "markdown",
      "source": [
        "# **Create a 128 × 128 matrix named M1 .**"
      ],
      "metadata": {
        "id": "CDJ_eE4XLCy5"
      }
    },
    {
      "cell_type": "code",
      "source": [
        "M1 = numpy.full(shape=(128,128),fill_value=7)\n",
        "M1  # It is 128x128 matrix which is full of 7. "
      ],
      "metadata": {
        "colab": {
          "base_uri": "https://localhost:8080/"
        },
        "id": "mUZL6kD0KNk6",
        "outputId": "2efa2e1b-a447-43a5-db58-119fba218bf8"
      },
      "execution_count": 44,
      "outputs": [
        {
          "output_type": "execute_result",
          "data": {
            "text/plain": [
              "array([[7, 7, 7, ..., 7, 7, 7],\n",
              "       [7, 7, 7, ..., 7, 7, 7],\n",
              "       [7, 7, 7, ..., 7, 7, 7],\n",
              "       ...,\n",
              "       [7, 7, 7, ..., 7, 7, 7],\n",
              "       [7, 7, 7, ..., 7, 7, 7],\n",
              "       [7, 7, 7, ..., 7, 7, 7]])"
            ]
          },
          "metadata": {},
          "execution_count": 44
        }
      ]
    },
    {
      "cell_type": "markdown",
      "source": [
        "# **Numbers of columns and rows are known but if not so we would need these operations.**"
      ],
      "metadata": {
        "id": "QxpsmWYOYuSL"
      }
    },
    {
      "cell_type": "code",
      "source": [
        "M1rows = M1.shape[0]      # number of rows\n",
        "M1columns = M1.shape[1]   # number of columns\n",
        "M1rows,M1columns"
      ],
      "metadata": {
        "colab": {
          "base_uri": "https://localhost:8080/"
        },
        "id": "dHP5mcHQYsH0",
        "outputId": "12be4b12-1757-496d-ac33-cb50a18ffa31"
      },
      "execution_count": 45,
      "outputs": [
        {
          "output_type": "execute_result",
          "data": {
            "text/plain": [
              "(128, 128)"
            ]
          },
          "metadata": {},
          "execution_count": 45
        }
      ]
    },
    {
      "cell_type": "markdown",
      "source": [
        "# **Set all values to 0 in every row which has an even index** \n"
      ],
      "metadata": {
        "id": "FYGc_NuHPIgR"
      }
    },
    {
      "cell_type": "code",
      "source": [
        "for row in range(M1rows): # It will scan every row\n",
        "  for column in range(0,M1columns,2): # It will start from index 0, and  increase index of column by 2.So that only even indexes will be changed.  \n",
        "    M1[row,column] = 0\n",
        "M1"
      ],
      "metadata": {
        "colab": {
          "base_uri": "https://localhost:8080/"
        },
        "id": "xGVv5RAEPXyl",
        "outputId": "27ce307e-db92-4a30-f3bd-b8e62a0da559"
      },
      "execution_count": 46,
      "outputs": [
        {
          "output_type": "execute_result",
          "data": {
            "text/plain": [
              "array([[0, 7, 0, ..., 7, 0, 7],\n",
              "       [0, 7, 0, ..., 7, 0, 7],\n",
              "       [0, 7, 0, ..., 7, 0, 7],\n",
              "       ...,\n",
              "       [0, 7, 0, ..., 7, 0, 7],\n",
              "       [0, 7, 0, ..., 7, 0, 7],\n",
              "       [0, 7, 0, ..., 7, 0, 7]])"
            ]
          },
          "metadata": {},
          "execution_count": 46
        }
      ]
    },
    {
      "cell_type": "markdown",
      "source": [
        "# **Set all values to 120 in every row which has an odd index**"
      ],
      "metadata": {
        "id": "Omrya3ubY3di"
      }
    },
    {
      "cell_type": "code",
      "source": [
        "for row in range(M1rows): # It will scan every row\n",
        "  for column in range(1,M1columns,2): # It will start from index 1, and  increase index of column by 2.So that only odd indexes will be changed.  \n",
        "    M1[row,column] = 120\n",
        "M1"
      ],
      "metadata": {
        "colab": {
          "base_uri": "https://localhost:8080/"
        },
        "id": "Nh7c-kFBY7HK",
        "outputId": "6256a502-7e29-4c94-90b6-fb5d5a5170d3"
      },
      "execution_count": 47,
      "outputs": [
        {
          "output_type": "execute_result",
          "data": {
            "text/plain": [
              "array([[  0, 120,   0, ..., 120,   0, 120],\n",
              "       [  0, 120,   0, ..., 120,   0, 120],\n",
              "       [  0, 120,   0, ..., 120,   0, 120],\n",
              "       ...,\n",
              "       [  0, 120,   0, ..., 120,   0, 120],\n",
              "       [  0, 120,   0, ..., 120,   0, 120],\n",
              "       [  0, 120,   0, ..., 120,   0, 120]])"
            ]
          },
          "metadata": {},
          "execution_count": 47
        }
      ]
    },
    {
      "cell_type": "markdown",
      "source": [
        "# **Rotate the matrix 90 degree**"
      ],
      "metadata": {
        "id": "1FgUGa6uaDl7"
      }
    },
    {
      "cell_type": "code",
      "source": [
        "# which means transpose\n",
        "M1 = M1.T\n",
        "M1"
      ],
      "metadata": {
        "colab": {
          "base_uri": "https://localhost:8080/"
        },
        "id": "2P9TW0ccaF6W",
        "outputId": "c62b2fe8-f102-46cd-a9ce-c528e9eed772"
      },
      "execution_count": 48,
      "outputs": [
        {
          "output_type": "execute_result",
          "data": {
            "text/plain": [
              "array([[  0,   0,   0, ...,   0,   0,   0],\n",
              "       [120, 120, 120, ..., 120, 120, 120],\n",
              "       [  0,   0,   0, ...,   0,   0,   0],\n",
              "       ...,\n",
              "       [120, 120, 120, ..., 120, 120, 120],\n",
              "       [  0,   0,   0, ...,   0,   0,   0],\n",
              "       [120, 120, 120, ..., 120, 120, 120]])"
            ]
          },
          "metadata": {},
          "execution_count": 48
        }
      ]
    },
    {
      "cell_type": "markdown",
      "source": [
        "# **Create a 128 × 128 matrix named M2.** "
      ],
      "metadata": {
        "id": "Ka5aR5xmaoSX"
      }
    },
    {
      "cell_type": "code",
      "source": [
        "M2 = numpy.full(shape=(128,128),fill_value=11)\n",
        "M2  # It is 128x128 matrix which is full of 11. "
      ],
      "metadata": {
        "colab": {
          "base_uri": "https://localhost:8080/"
        },
        "id": "UyVojTUUariN",
        "outputId": "df95c3af-f279-4da3-de8e-9f5601914bec"
      },
      "execution_count": 49,
      "outputs": [
        {
          "output_type": "execute_result",
          "data": {
            "text/plain": [
              "array([[11, 11, 11, ..., 11, 11, 11],\n",
              "       [11, 11, 11, ..., 11, 11, 11],\n",
              "       [11, 11, 11, ..., 11, 11, 11],\n",
              "       ...,\n",
              "       [11, 11, 11, ..., 11, 11, 11],\n",
              "       [11, 11, 11, ..., 11, 11, 11],\n",
              "       [11, 11, 11, ..., 11, 11, 11]])"
            ]
          },
          "metadata": {},
          "execution_count": 49
        }
      ]
    },
    {
      "cell_type": "markdown",
      "source": [
        "# **Numbers of columns and rows are known but if not so we would need these operations.**"
      ],
      "metadata": {
        "id": "v3hFpagqcNdq"
      }
    },
    {
      "cell_type": "code",
      "source": [
        "M2rows = M2.shape[0]      # number of rows\n",
        "M2columns = M2.shape[1]   # number of columns\n",
        "\n",
        "M2rows,M2columns"
      ],
      "metadata": {
        "colab": {
          "base_uri": "https://localhost:8080/"
        },
        "id": "4bmqs8WWcOYt",
        "outputId": "d33b1745-51ca-4a58-bc88-bbdc7e38172b"
      },
      "execution_count": 50,
      "outputs": [
        {
          "output_type": "execute_result",
          "data": {
            "text/plain": [
              "(128, 128)"
            ]
          },
          "metadata": {},
          "execution_count": 50
        }
      ]
    },
    {
      "cell_type": "markdown",
      "source": [
        "# **Set all values to 0 in every row which has an even index** \n"
      ],
      "metadata": {
        "id": "6FNyQSoxcYNu"
      }
    },
    {
      "cell_type": "code",
      "source": [
        "for row in range(M2rows): # It will scan every row\n",
        "  for column in range(0,M2columns,2): # It will start from index 0, and  increase index of column by 2.So that only even indexes will be changed.  \n",
        "    M2[row,column] = 0\n",
        "M2"
      ],
      "metadata": {
        "colab": {
          "base_uri": "https://localhost:8080/"
        },
        "id": "794uwV0fcX6i",
        "outputId": "1b73d4f1-3ae5-425c-fd3f-d6ed4d820a44"
      },
      "execution_count": 51,
      "outputs": [
        {
          "output_type": "execute_result",
          "data": {
            "text/plain": [
              "array([[ 0, 11,  0, ..., 11,  0, 11],\n",
              "       [ 0, 11,  0, ..., 11,  0, 11],\n",
              "       [ 0, 11,  0, ..., 11,  0, 11],\n",
              "       ...,\n",
              "       [ 0, 11,  0, ..., 11,  0, 11],\n",
              "       [ 0, 11,  0, ..., 11,  0, 11],\n",
              "       [ 0, 11,  0, ..., 11,  0, 11]])"
            ]
          },
          "metadata": {},
          "execution_count": 51
        }
      ]
    },
    {
      "cell_type": "markdown",
      "source": [
        "# **Set all values to 120 in every row which has an odd index**"
      ],
      "metadata": {
        "id": "sPDYRJnucvTd"
      }
    },
    {
      "cell_type": "code",
      "source": [
        "for row in range(M2rows): # It will scan every row\n",
        "  for column in range(1,M2columns,2): # It will start from index 1, and  increase index of column by 2.So that only odd indexes will be changed.  \n",
        "    M2[row,column] = 120\n",
        "M2"
      ],
      "metadata": {
        "colab": {
          "base_uri": "https://localhost:8080/"
        },
        "id": "KVEj9U6AcvvW",
        "outputId": "99c64fb4-a593-489a-8a14-b9863a13c9d2"
      },
      "execution_count": 52,
      "outputs": [
        {
          "output_type": "execute_result",
          "data": {
            "text/plain": [
              "array([[  0, 120,   0, ..., 120,   0, 120],\n",
              "       [  0, 120,   0, ..., 120,   0, 120],\n",
              "       [  0, 120,   0, ..., 120,   0, 120],\n",
              "       ...,\n",
              "       [  0, 120,   0, ..., 120,   0, 120],\n",
              "       [  0, 120,   0, ..., 120,   0, 120],\n",
              "       [  0, 120,   0, ..., 120,   0, 120]])"
            ]
          },
          "metadata": {},
          "execution_count": 52
        }
      ]
    },
    {
      "cell_type": "markdown",
      "source": [
        "#  **Calculate sum of the matrices M1 and M2, assign the result to variable M3**"
      ],
      "metadata": {
        "id": "XYD77c3XdO_Z"
      }
    },
    {
      "cell_type": "code",
      "source": [
        "M3 = M1 + M2 # simply addition operation\n",
        "M3"
      ],
      "metadata": {
        "colab": {
          "base_uri": "https://localhost:8080/"
        },
        "id": "tdjJwPI_dPgG",
        "outputId": "0a4a30d5-668f-4b0d-ac6c-f2d639c29d04"
      },
      "execution_count": 53,
      "outputs": [
        {
          "output_type": "execute_result",
          "data": {
            "text/plain": [
              "array([[  0, 120,   0, ..., 120,   0, 120],\n",
              "       [120, 240, 120, ..., 240, 120, 240],\n",
              "       [  0, 120,   0, ..., 120,   0, 120],\n",
              "       ...,\n",
              "       [120, 240, 120, ..., 240, 120, 240],\n",
              "       [  0, 120,   0, ..., 120,   0, 120],\n",
              "       [120, 240, 120, ..., 240, 120, 240]])"
            ]
          },
          "metadata": {},
          "execution_count": 53
        }
      ]
    },
    {
      "cell_type": "markdown",
      "source": [
        " # **Set all values of M3 which are greater than 200 to 255, and lower than 200 to 0**"
      ],
      "metadata": {
        "id": "mjfe9EPRjA0S"
      }
    },
    {
      "cell_type": "code",
      "source": [
        "# Numbers of rows and columns are already known.\n",
        "for row in range(128):  \n",
        "  for column in range(128):\n",
        "\n",
        "    element = M3[row,column]\n",
        "\n",
        "    if  element > 200:     # It checkes that whether value is greater then 200\n",
        "      M3[row,column] = 255 # if so set it as 255\n",
        "\n",
        "    elif element < 200:    # It checkes that whether value is lower then 200\n",
        "      M3[row,column] = 0   # if so set it as 0\n",
        "\n",
        "M3"
      ],
      "metadata": {
        "colab": {
          "base_uri": "https://localhost:8080/"
        },
        "id": "5aP0v7i7jBKr",
        "outputId": "8108c465-a095-4a12-aed1-520415012ea5"
      },
      "execution_count": 54,
      "outputs": [
        {
          "output_type": "execute_result",
          "data": {
            "text/plain": [
              "array([[  0,   0,   0, ...,   0,   0,   0],\n",
              "       [  0, 255,   0, ..., 255,   0, 255],\n",
              "       [  0,   0,   0, ...,   0,   0,   0],\n",
              "       ...,\n",
              "       [  0, 255,   0, ..., 255,   0, 255],\n",
              "       [  0,   0,   0, ...,   0,   0,   0],\n",
              "       [  0, 255,   0, ..., 255,   0, 255]])"
            ]
          },
          "metadata": {},
          "execution_count": 54
        }
      ]
    },
    {
      "cell_type": "markdown",
      "source": [
        "# **Extra: Create an RGB image from M3 with a red and blue grid** "
      ],
      "metadata": {
        "id": "Nm1rrCA9kYBD"
      }
    },
    {
      "cell_type": "code",
      "source": [],
      "metadata": {
        "id": "2L9wT9FUkYeL"
      },
      "execution_count": 39,
      "outputs": []
    },
    {
      "cell_type": "markdown",
      "source": [
        "# **Read the image einstein.jpg as an array, assign to variable img.**\n"
      ],
      "metadata": {
        "id": "aED30T6A4njq"
      }
    },
    {
      "cell_type": "code",
      "source": [
        "img = cv2.imread(\"/content/einstein.jpg\",cv2.IMREAD_GRAYSCALE) # We have to make it 2D before thresholding operations.\n",
        "img.shape"
      ],
      "metadata": {
        "colab": {
          "base_uri": "https://localhost:8080/"
        },
        "id": "z-yYGQN-4n9S",
        "outputId": "7e0e3261-8acf-421a-e156-8f79f1fc7d45"
      },
      "execution_count": 55,
      "outputs": [
        {
          "output_type": "execute_result",
          "data": {
            "text/plain": [
              "(455, 728)"
            ]
          },
          "metadata": {},
          "execution_count": 55
        }
      ]
    },
    {
      "cell_type": "markdown",
      "source": [
        "#  **Apply binarization (thresholding) to img and assign the result to variable img_bin**"
      ],
      "metadata": {
        "id": "QoQbKcezDfiv"
      }
    },
    {
      "cell_type": "code",
      "source": [
        "# Our threshold value is 50.\n",
        "# Our max value is 255. \n",
        "# If pixel is lower than 127 it gets set as 0. If it is greater than 127, it gets set as 255. \n",
        "# It will get brighter if threshold value gets smaller\n",
        "# It will get darker if threshold value gets bigger\n",
        "\n",
        "retval , img_bin = cv2.threshold(img,50,255,cv2.THRESH_BINARY) \n",
        "cv2_imshow(img_bin)"
      ],
      "metadata": {
        "colab": {
          "base_uri": "https://localhost:8080/",
          "height": 472
        },
        "id": "FTj7iv7MDiFH",
        "outputId": "b29eb8e1-aa0d-41e2-d761-73fd73835c8d"
      },
      "execution_count": 58,
      "outputs": [
        {
          "output_type": "display_data",
          "data": {
            "text/plain": [
              "<PIL.Image.Image image mode=L size=728x455 at 0x7F473425C4D0>"
            ],
            "image/png": "[encoded data removed]"
          },
          "metadata": {}
        }
      ]
    },
    {
      "cell_type": "markdown",
      "source": [
        "# **Extra: Implement simple thresholding only using Numpy, show and compare your result with OpenCV**"
      ],
      "metadata": {
        "id": "WYyrtTmiO_uI"
      }
    },
    {
      "cell_type": "code",
      "source": [
        "def my_Threshold(sourceImage,threshold,maxValue):\n",
        "  if sourceImage.ndim == 3: # Firstly, i check whether given image is 3d or not \n",
        "    print(\"please convert it into grayscale format\")\n",
        "  elif sourceImage.ndim == 1:\n",
        "    print(\"something went wrong\")\n",
        "  else:\n",
        "    rows = sourceImage.shape[0]         # number of rows of given image\n",
        "    columns = sourceImage.shape[1]      # number of columns of given image\n",
        "    newImage = numpy.copy(sourceImage)  # I created exactly same copy of given image \n",
        "    for row in range(rows):\n",
        "      for column in range(columns):\n",
        "        element = sourceImage[row,column]\n",
        "        if element > threshold: # I check whether pixel is greater than threshold or not\n",
        "          newImage[row,column] = maxValue # if so set it as max value\n",
        "        else:     # I check whether pixel is lower than threshold or not\n",
        "          newImage[row,column] = 0  # if so set it as 0\n",
        "  return newImage  # and finally return the new image\n"
      ],
      "metadata": {
        "id": "yH7vGW9xO5KX"
      },
      "execution_count": 59,
      "outputs": []
    },
    {
      "cell_type": "markdown",
      "source": [
        "## **Comparison of thresholding functions**"
      ],
      "metadata": {
        "id": "wr6KTcc58O9t"
      }
    },
    {
      "cell_type": "code",
      "source": [
        "myThresholdImage = my_Threshold(img,50,255)\n",
        "cv2_imshow(myThresholdImage)\n",
        "\n",
        "# When i compared two images, i did not see any significant difference between openCV's threshold function and my threshold function"
      ],
      "metadata": {
        "colab": {
          "base_uri": "https://localhost:8080/",
          "height": 472
        },
        "id": "hwROvVtk8Qv1",
        "outputId": "0d6761ce-3255-457b-d213-c66fd97f4846"
      },
      "execution_count": 60,
      "outputs": [
        {
          "output_type": "display_data",
          "data": {
            "text/plain": [
              "<PIL.Image.Image image mode=L size=728x455 at 0x7F472126CDD0>"
            ],
            "image/png": "[encoded data removed]"
          },
          "metadata": {}
        }
      ]
    }
  ]
}